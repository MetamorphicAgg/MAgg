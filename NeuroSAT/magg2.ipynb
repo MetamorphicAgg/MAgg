{
 "cells": [
  {
   "cell_type": "code",
   "execution_count": null,
   "metadata": {},
   "outputs": [],
   "source": [
    "import pickle\n",
    "import numpy as np\n",
    "from src.utils import trunc_pred\n",
    "from src.agg import train_agg2, test_agg2\n",
    "import os\n"
   ]
  },
  {
   "cell_type": "code",
   "execution_count": 2,
   "metadata": {},
   "outputs": [
    {
     "data": {
      "text/plain": [
       "((5000, 111), (5000,))"
      ]
     },
     "execution_count": 2,
     "metadata": {},
     "output_type": "execute_result"
    }
   ],
   "source": [
    "n_vars = 40\n",
    "n_samples_lvl1, n_samples_lvl2 = 10, 10\n",
    "xs_val = pickle.load(open('data/val/val_%d_rp_lv2_10,10_5000_preds.pkl' % n_vars, 'rb'))[:5000]\n",
    "gts_val = pickle.load(open('data/val/val_%d_rp_lv2_10,10_5000_gts.pkl' % n_vars, 'rb'))[:5000]\n",
    "xs_val = np.array(xs_val)\n",
    "gts_val = np.array(gts_val)\n",
    "xs_val.shape, gts_val.shape"
   ]
  },
  {
   "cell_type": "code",
   "execution_count": 3,
   "metadata": {},
   "outputs": [
    {
     "name": "stderr",
     "output_type": "stream",
     "text": [
      "100%|██████████| 100/100 [00:33<00:00,  3.01it/s, best_train_acc=0.9788, loss=0.0008, train_acc=0.9788]\n"
     ]
    }
   ],
   "source": [
    "dump_path = os.path.join('agg_model/', 'gnn_lvl2_%d.pt' % n_vars)\n",
    "train_agg2(xs_val, gts_val, epochs=100, lr=0.001, n_samples_lvl1=n_samples_lvl1, n_samples_lvl2=n_samples_lvl2, dump_path=dump_path)"
   ]
  },
  {
   "cell_type": "code",
   "execution_count": 4,
   "metadata": {},
   "outputs": [
    {
     "data": {
      "text/plain": [
       "((5000, 111), (5000,))"
      ]
     },
     "execution_count": 4,
     "metadata": {},
     "output_type": "execute_result"
    }
   ],
   "source": [
    "n_samples_lvl1_all, n_samples_lvl2_all = 30, 30\n",
    "xs_test = pickle.load(open('data/test/test_%d_rp_lv2_30,30_5000_preds.pkl' % n_vars, 'rb'))[:5000]\n",
    "gts_test = pickle.load(open('data/test/test_%d_rp_lv2_30,30_5000_gts.pkl' % n_vars, 'rb'))[:5000]\n",
    "xs_test = np.array(xs_test)\n",
    "gts_test = np.array(gts_test)\n",
    "xs_test = trunc_pred(xs_test, \n",
    "                     n_samples_lvl1=n_samples_lvl1, n_samples_lvl2=n_samples_lvl2, \n",
    "                     n_samples_lvl1_all=n_samples_lvl1_all, n_samples_lvl2_all=n_samples_lvl2_all)\n",
    "xs_test.shape, gts_test.shape"
   ]
  },
  {
   "cell_type": "code",
   "execution_count": 5,
   "metadata": {},
   "outputs": [
    {
     "name": "stderr",
     "output_type": "stream",
     "text": [
      "100%|██████████| 50/50 [00:00<00:00, 424.10it/s]\n"
     ]
    },
    {
     "data": {
      "text/plain": [
       "0.976"
      ]
     },
     "execution_count": 5,
     "metadata": {},
     "output_type": "execute_result"
    }
   ],
   "source": [
    "test_acc = test_agg2(xs_test, gts_test, n_samples_lvl1=n_samples_lvl1, n_samples_lvl2=n_samples_lvl2, dump_path=dump_path) \n",
    "test_acc"
   ]
  }
 ],
 "metadata": {
  "kernelspec": {
   "display_name": "Python 3",
   "language": "python",
   "name": "python3"
  },
  "language_info": {
   "codemirror_mode": {
    "name": "ipython",
    "version": 3
   },
   "file_extension": ".py",
   "mimetype": "text/x-python",
   "name": "python",
   "nbconvert_exporter": "python",
   "pygments_lexer": "ipython3",
   "version": "3.10.12"
  }
 },
 "nbformat": 4,
 "nbformat_minor": 2
}
