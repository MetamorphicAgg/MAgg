{
 "cells": [
  {
   "cell_type": "code",
   "execution_count": null,
   "metadata": {},
   "outputs": [],
   "source": [
    "import pickle\n",
    "import numpy as np\n",
    "from utils import trunc_pred_lvl1\n",
    "from agg import train_agg1, test_agg1\n",
    "import os"
   ]
  },
  {
   "cell_type": "code",
   "execution_count": 2,
   "metadata": {},
   "outputs": [
    {
     "data": {
      "text/plain": [
       "((2048, 11), (2048,))"
      ]
     },
     "execution_count": 2,
     "metadata": {},
     "output_type": "execute_result"
    }
   ],
   "source": [
    "dev = 0.01\n",
    "n_total = 2048\n",
    "checkpoint_version = 1000\n",
    "trans = 'amm,0.500'\n",
    "n_samples = 10\n",
    "xs_val = pickle.load(open('data/val/val_%.2f_%d_%s_%s_%d_preds.pkl' % (dev, n_total, checkpoint_version, trans, n_samples), 'rb'))\n",
    "gts_val = pickle.load(open('data/val/val_%.2f_%d_gts.pkl' % (dev, n_total), 'rb'))\n",
    "xs_val = np.array(xs_val)\n",
    "gts_val = np.array(gts_val)\n",
    "xs_val.shape, gts_val.shape"
   ]
  },
  {
   "cell_type": "code",
   "execution_count": 3,
   "metadata": {},
   "outputs": [
    {
     "name": "stderr",
     "output_type": "stream",
     "text": [
      "  0%|          | 0/100 [00:00<?, ?it/s]"
     ]
    },
    {
     "name": "stderr",
     "output_type": "stream",
     "text": [
      "100%|██████████| 100/100 [00:02<00:00, 40.02it/s, best_train_acc=0.6758, loss=0.0050, train_acc=0.6758]\n"
     ]
    }
   ],
   "source": [
    "dump_path = os.path.join('agg_model/', 'gnn_lvl1_%.2f.pt' % dev)\n",
    "train_agg1(xs_val, gts_val, batch_size=128, epochs=100, lr=0.0001, n_samples=n_samples, dump_path=dump_path)"
   ]
  },
  {
   "cell_type": "code",
   "execution_count": 4,
   "metadata": {},
   "outputs": [
    {
     "data": {
      "text/plain": [
       "((2048, 11), (2048,))"
      ]
     },
     "execution_count": 4,
     "metadata": {},
     "output_type": "execute_result"
    }
   ],
   "source": [
    "n_samples_all = 50\n",
    "xs_test = pickle.load(open('data/test/test_%.2f_%d_%s_%s_%d_preds.pkl' % (dev, n_total, checkpoint_version, trans, n_samples_all), 'rb'))\n",
    "gts_test = pickle.load(open('data/test/test_%.2f_%d_gts.pkl' % (dev, n_total), 'rb'))\n",
    "xs_test = np.array(xs_test)\n",
    "gts_test = np.array(gts_test)\n",
    "xs_test = trunc_pred_lvl1(xs_test, n_samples=10, n_samples_all=50)\n",
    "xs_test.shape, gts_test.shape"
   ]
  },
  {
   "cell_type": "code",
   "execution_count": 5,
   "metadata": {},
   "outputs": [
    {
     "name": "stderr",
     "output_type": "stream",
     "text": [
      "100%|██████████| 16/16 [00:00<00:00, 1713.10it/s]\n"
     ]
    },
    {
     "data": {
      "text/plain": [
       "0.6806640625"
      ]
     },
     "execution_count": 5,
     "metadata": {},
     "output_type": "execute_result"
    }
   ],
   "source": [
    "test_acc = test_agg1(xs_test, gts_test, batch_size=128, n_samples=n_samples, dump_path=dump_path) \n",
    "test_acc"
   ]
  }
 ],
 "metadata": {
  "kernelspec": {
   "display_name": "Python 3",
   "language": "python",
   "name": "python3"
  },
  "language_info": {
   "codemirror_mode": {
    "name": "ipython",
    "version": 3
   },
   "file_extension": ".py",
   "mimetype": "text/x-python",
   "name": "python",
   "nbconvert_exporter": "python",
   "pygments_lexer": "ipython3",
   "version": "3.10.12"
  }
 },
 "nbformat": 4,
 "nbformat_minor": 2
}
