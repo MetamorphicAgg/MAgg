{
 "cells": [
  {
   "cell_type": "code",
   "execution_count": null,
   "metadata": {},
   "outputs": [],
   "source": [
    "import pickle\n",
    "import torch\n",
    "from utils import dataset_mp, prd2XY, test\n",
    "from agg import MLPRegressor\n",
    "import numpy as np"
   ]
  },
  {
   "cell_type": "code",
   "execution_count": 2,
   "metadata": {},
   "outputs": [
    {
     "data": {
      "text/plain": [
       "((300000, 51), (300000,))"
      ]
     },
     "execution_count": 2,
     "metadata": {},
     "output_type": "execute_result"
    }
   ],
   "source": [
    "portion = 0.5\n",
    "dataset_name = 'linux'\n",
    "dataset = dataset_mp[dataset_name]\n",
    "trans = 'hv2'\n",
    "n_samples = 50\n",
    "\n",
    "preds = pickle.load(open('data/val/val_%s_%s_%d_%.2ftrain_preds.pkl' % (dataset, trans, n_samples, portion), 'rb'))\n",
    "preds = np.reshape(preds, (-1, n_samples + 1))\n",
    "gts = pickle.load(open('data/val/val_%s_%.2ftrain_gts.pkl' % (dataset, portion), 'rb'))\n",
    "\n",
    "preds.shape, gts.shape"
   ]
  },
  {
   "cell_type": "code",
   "execution_count": 3,
   "metadata": {},
   "outputs": [
    {
     "data": {
      "text/plain": [
       "((300000, 402), (300000,), (300000,), (300000,), (300000,))"
      ]
     },
     "execution_count": 3,
     "metadata": {},
     "output_type": "execute_result"
    }
   ],
   "source": [
    "Xs_val, Ys_val, mi_val, ma_val, oYs_val = prd2XY(preds, gts, n_samples=n_samples)\n",
    "Xs_val.shape, Ys_val.shape, mi_val.shape, ma_val.shape, oYs_val.shape"
   ]
  },
  {
   "cell_type": "code",
   "execution_count": 4,
   "metadata": {},
   "outputs": [
    {
     "name": "stderr",
     "output_type": "stream",
     "text": [
      "100%|██████████| 500/500 [00:43<00:00, 11.55it/s, train_mse=0.00602]\n"
     ]
    },
    {
     "data": {
      "image/png": "[encoded data removed]",
      "text/plain": [
       "<Figure size 640x480 with 1 Axes>"
      ]
     },
     "metadata": {},
     "output_type": "display_data"
    }
   ],
   "source": [
    "torch.manual_seed(0)\n",
    "torch.cuda.manual_seed_all(0)\n",
    "torch.backends.cudnn.deterministic = True\n",
    "\n",
    "model = MLPRegressor(\n",
    "    hidden_sizes=[200, 100, 50], \n",
    "    p=0.5,\n",
    ")\n",
    "model.fit(Xs_val, Ys_val, batch_size=16000, n_epochs=500, lr=0.0001, weight_decay=0.0)\n",
    "torch.save(model.mlp.state_dict(), 'agg_model/%s.pt' % dataset)"
   ]
  },
  {
   "cell_type": "code",
   "execution_count": 5,
   "metadata": {},
   "outputs": [
    {
     "data": {
      "text/plain": [
       "((160000, 51), (160000,), torch.Size([160000]), torch.Size([160000]))"
      ]
     },
     "execution_count": 5,
     "metadata": {},
     "output_type": "execute_result"
    }
   ],
   "source": [
    "preds_test = pickle.load(open('data/test/test_%s_%s_%d_preds.pkl' % (dataset, trans, n_samples), 'rb'))\n",
    "preds_test = np.reshape(preds_test, (-1, n_samples + 1))\n",
    "gts_test = pickle.load(open('data/test/test_%s_gts.pkl' % (dataset, ), 'rb'))\n",
    "\n",
    "inner_set_test, _ = torch.load(f'expts/data/{dataset}/inner_test.pt', map_location='cpu')\n",
    "_, _, lb_test, ub_test = inner_set_test\n",
    "preds_test.shape, gts_test.shape, lb_test.size(), ub_test.size() "
   ]
  },
  {
   "cell_type": "code",
   "execution_count": 6,
   "metadata": {},
   "outputs": [
    {
     "data": {
      "text/plain": [
       "((160000, 402), (160000,), (160000,), (160000,), (160000,))"
      ]
     },
     "execution_count": 6,
     "metadata": {},
     "output_type": "execute_result"
    }
   ],
   "source": [
    "Xs_test, Ys_test, mi_test, ma_test, oYs_test = prd2XY(preds_test, gts_test, n_samples=n_samples)\n",
    "Xs_test.shape, Ys_test.shape, mi_test.shape, ma_test.shape, oYs_test.shape"
   ]
  },
  {
   "cell_type": "code",
   "execution_count": 7,
   "metadata": {},
   "outputs": [
    {
     "name": "stdout",
     "output_type": "stream",
     "text": [
      "0.41511092 0.24058245\n"
     ]
    }
   ],
   "source": [
    "test_err_orig, test_err = test(model, Xs_test, lb_test, ub_test, mi_test, ma_test, oYs_test)\n",
    "print(test_err_orig, test_err)"
   ]
  }
 ],
 "metadata": {
  "kernelspec": {
   "display_name": "Python 3",
   "language": "python",
   "name": "python3"
  },
  "language_info": {
   "codemirror_mode": {
    "name": "ipython",
    "version": 3
   },
   "file_extension": ".py",
   "mimetype": "text/x-python",
   "name": "python",
   "nbconvert_exporter": "python",
   "pygments_lexer": "ipython3",
   "version": "3.10.12"
  }
 },
 "nbformat": 4,
 "nbformat_minor": 2
}
